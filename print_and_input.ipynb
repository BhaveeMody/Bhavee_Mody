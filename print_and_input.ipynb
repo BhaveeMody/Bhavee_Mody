{
  "nbformat": 4,
  "nbformat_minor": 0,
  "metadata": {
    "colab": {
      "provenance": [],
      "authorship_tag": "ABX9TyMZzUfELGzVza6jG2h84zks",
      "include_colab_link": true
    },
    "kernelspec": {
      "name": "python3",
      "display_name": "Python 3"
    },
    "language_info": {
      "name": "python"
    }
  },
  "cells": [
    {
      "cell_type": "markdown",
      "metadata": {
        "id": "view-in-github",
        "colab_type": "text"
      },
      "source": [
        "<a href=\"https://colab.research.google.com/github/BhaveeMody/Bhavee_Mody/blob/main/print_and_input.ipynb\" target=\"_parent\"><img src=\"https://colab.research.google.com/assets/colab-badge.svg\" alt=\"Open In Colab\"/></a>"
      ]
    },
    {
      "cell_type": "markdown",
      "source": [
        "#Print Statement"
      ],
      "metadata": {
        "id": "Dlbja-4sdwfu"
      }
    },
    {
      "cell_type": "code",
      "execution_count": null,
      "metadata": {
        "colab": {
          "base_uri": "https://localhost:8080/"
        },
        "id": "9fL7VV_JdYsZ",
        "outputId": "e0f820a8-63ea-4cb9-9be4-bc9047515311"
      },
      "outputs": [
        {
          "output_type": "stream",
          "name": "stdout",
          "text": [
            "hello\n"
          ]
        }
      ],
      "source": [
        "print(\"hello\")"
      ]
    },
    {
      "cell_type": "code",
      "source": [
        "name = \"Johnny\"\n",
        "print(name)\n",
        "print(type(name))"
      ],
      "metadata": {
        "colab": {
          "base_uri": "https://localhost:8080/"
        },
        "id": "oeBdzdwGeF58",
        "outputId": "1e0ec0c6-cd99-4b3d-a5c0-7f156e1ffc28"
      },
      "execution_count": null,
      "outputs": [
        {
          "output_type": "stream",
          "name": "stdout",
          "text": [
            "Johnny\n",
            "<class 'str'>\n"
          ]
        }
      ]
    },
    {
      "cell_type": "code",
      "source": [
        "x = 200\n",
        "print(x)\n",
        "print(type(x))"
      ],
      "metadata": {
        "colab": {
          "base_uri": "https://localhost:8080/"
        },
        "id": "RwibWRt-eeh_",
        "outputId": "dd72adf7-6fd0-44ab-cdd0-9a56fa16d5f9"
      },
      "execution_count": null,
      "outputs": [
        {
          "output_type": "stream",
          "name": "stdout",
          "text": [
            "200\n",
            "<class 'int'>\n"
          ]
        }
      ]
    },
    {
      "cell_type": "code",
      "source": [
        "y = 15.1\n",
        "print(y)\n",
        "print(type(y))"
      ],
      "metadata": {
        "colab": {
          "base_uri": "https://localhost:8080/"
        },
        "id": "qfC1eoxmfRII",
        "outputId": "3bd525c5-a3ce-44c0-f889-2622a8a9e4d2"
      },
      "execution_count": null,
      "outputs": [
        {
          "output_type": "stream",
          "name": "stdout",
          "text": [
            "15.1\n",
            "<class 'float'>\n"
          ]
        }
      ]
    },
    {
      "cell_type": "code",
      "source": [
        "z = True\n",
        "print(z)\n",
        "print(type(z))"
      ],
      "metadata": {
        "colab": {
          "base_uri": "https://localhost:8080/"
        },
        "id": "DvBgiCL7fdzK",
        "outputId": "0a0311fe-3bb2-4473-9597-49dea12f68f0"
      },
      "execution_count": null,
      "outputs": [
        {
          "output_type": "stream",
          "name": "stdout",
          "text": [
            "True\n",
            "<class 'bool'>\n"
          ]
        }
      ]
    },
    {
      "cell_type": "code",
      "source": [
        "print(\"welcome\", name, \"! Do you like the course?\")"
      ],
      "metadata": {
        "colab": {
          "base_uri": "https://localhost:8080/"
        },
        "id": "ptTM7p9pfxuV",
        "outputId": "67a054c2-75bf-4850-837c-ae7a3d4173ac"
      },
      "execution_count": null,
      "outputs": [
        {
          "output_type": "stream",
          "name": "stdout",
          "text": [
            "welcome Johnny ! Do you like the course?\n"
          ]
        }
      ]
    },
    {
      "cell_type": "code",
      "source": [
        "a = \"b\"\n",
        "print(a)\n",
        "print(type(a))"
      ],
      "metadata": {
        "colab": {
          "base_uri": "https://localhost:8080/"
        },
        "id": "bfw757jrgXfz",
        "outputId": "710d0c8e-99f1-4c44-e4bb-9c5cb035e044"
      },
      "execution_count": null,
      "outputs": [
        {
          "output_type": "stream",
          "name": "stdout",
          "text": [
            "b\n",
            "<class 'str'>\n"
          ]
        }
      ]
    },
    {
      "cell_type": "markdown",
      "source": [
        "#Input Statement"
      ],
      "metadata": {
        "id": "T_Kzz4zmib3f"
      }
    },
    {
      "cell_type": "code",
      "source": [
        "name = input(\"enter your name\")\n",
        "print(name)\n",
        "print(type(name))"
      ],
      "metadata": {
        "colab": {
          "base_uri": "https://localhost:8080/"
        },
        "id": "aN6ncx6BiLmc",
        "outputId": "4d9f5996-2643-421e-ac4c-9205e27323d7"
      },
      "execution_count": null,
      "outputs": [
        {
          "output_type": "stream",
          "name": "stdout",
          "text": [
            "enter your nameBhavee Mody\n",
            "Bhavee Mody\n",
            "<class 'str'>\n"
          ]
        }
      ]
    },
    {
      "cell_type": "code",
      "source": [
        "x = input(\"enter a number\")\n",
        "print(x)\n",
        "print(type(x))"
      ],
      "metadata": {
        "colab": {
          "base_uri": "https://localhost:8080/"
        },
        "id": "Jb5mag0bjM1M",
        "outputId": "953d29f0-a5c1-4e89-9755-9127a8165d3e"
      },
      "execution_count": null,
      "outputs": [
        {
          "output_type": "stream",
          "name": "stdout",
          "text": [
            "enter a number20\n",
            "20\n",
            "<class 'str'>\n"
          ]
        }
      ]
    },
    {
      "cell_type": "code",
      "source": [
        "y = input(\"enter a float value \")\n",
        "print(y)\n",
        "print(type(y))\n"
      ],
      "metadata": {
        "colab": {
          "base_uri": "https://localhost:8080/"
        },
        "id": "pXvvgXTtjiMh",
        "outputId": "6643b190-269e-4f50-fbd1-5f832c7bdb01"
      },
      "execution_count": null,
      "outputs": [
        {
          "output_type": "stream",
          "name": "stdout",
          "text": [
            "enter a float value 20.5\n",
            "20.5\n",
            "<class 'str'>\n"
          ]
        }
      ]
    },
    {
      "cell_type": "code",
      "source": [
        "b = input(\"enter a boolean value \")\n",
        "print(b)\n",
        "print(type(b))\n",
        "\n"
      ],
      "metadata": {
        "colab": {
          "base_uri": "https://localhost:8080/"
        },
        "id": "rdwvXEMukcAP",
        "outputId": "384554e9-4b68-4e80-f36b-b6030c7776e4"
      },
      "execution_count": null,
      "outputs": [
        {
          "output_type": "stream",
          "name": "stdout",
          "text": [
            "enter a boolean value False\n",
            "False\n",
            "<class 'str'>\n"
          ]
        }
      ]
    },
    {
      "cell_type": "markdown",
      "source": [
        "Note:Whenever we use the \"Input Statement\" the data type will be string by default."
      ],
      "metadata": {
        "id": "dBHla7ZAlKwG"
      }
    },
    {
      "cell_type": "markdown",
      "source": [
        "#Tasks"
      ],
      "metadata": {
        "id": "yy7w1tTPngHp"
      }
    },
    {
      "cell_type": "markdown",
      "source": [
        "## Calculator Program"
      ],
      "metadata": {
        "id": "DGimizyrnp0W"
      }
    },
    {
      "cell_type": "code",
      "source": [
        "num1 = int(input(\"enter the first number\"))\n",
        "num2 = int(input(\"enter the second number\"))\n",
        "print(\"the difference of\",num1 ,\"and\", num2 ,\"is equal to\",(num1 - num2))\n",
        "print(\"the sum of\",num1 ,\"and\", num2 ,\"is equal to\",(num1 + num2))\n",
        "print(\"the product of\",num1 ,\"and\", num2 ,\"is equal to\",(num1 * num2))\n",
        "print(\"the quotient of\",num1 ,\"and\", num2 ,\"is equal to\",(num1/num2))"
      ],
      "metadata": {
        "id": "1n8SmN0aPidG",
        "colab": {
          "base_uri": "https://localhost:8080/"
        },
        "outputId": "a03462ca-183c-405d-93b3-cddbfd9c199a"
      },
      "execution_count": null,
      "outputs": [
        {
          "output_type": "stream",
          "name": "stdout",
          "text": [
            "enter the first number100\n",
            "enter the second number800\n",
            "the difference of 100 and 800 is equal to -700\n",
            "the sum of 100 and 800 is equal to 900\n",
            "the product of 100 and 800 is equal to 80000\n",
            "the quotient of 100 and 800 is equal to 0.125\n"
          ]
        }
      ]
    },
    {
      "cell_type": "markdown",
      "source": [
        "#Conversion Program\n"
      ],
      "metadata": {
        "id": "BL7ckra4OBJP"
      }
    },
    {
      "cell_type": "code",
      "source": [
        "b = int(input(\"enter your distance in metres\"))\n",
        "kilometres= print(\"kilometres for\", b, \"metres is equal to \", (b/1000))"
      ],
      "metadata": {
        "colab": {
          "base_uri": "https://localhost:8080/"
        },
        "id": "0ZfDQW0rIfiS",
        "outputId": "e8a81b40-4cf0-416e-ce02-e7f16031d669"
      },
      "execution_count": null,
      "outputs": [
        {
          "output_type": "stream",
          "name": "stdout",
          "text": [
            "enter your distance in metres300\n",
            "kilometres for 300 metres is equal to  0.3\n"
          ]
        }
      ]
    },
    {
      "cell_type": "code",
      "source": [
        "a = int(input(\"enter your weight in grams\"))\n",
        "kilograms= print(\"kilograms for\",a,\"grams is equal to\",(a/1000))"
      ],
      "metadata": {
        "colab": {
          "base_uri": "https://localhost:8080/"
        },
        "id": "2CZCL4eKR2gs",
        "outputId": "b3dd38d8-4022-4840-8be6-3e879ce1ac1b"
      },
      "execution_count": null,
      "outputs": [
        {
          "output_type": "stream",
          "name": "stdout",
          "text": [
            "enter your weight in grams200\n",
            "kilograms for 200 grams is equal to 0.2\n"
          ]
        }
      ]
    },
    {
      "cell_type": "code",
      "source": [
        "c = int(input(\"enter your length value in inch\"))\n",
        "centimetres = print(\"cm for\",c,\"inch is equal to\",(a*2.54))"
      ],
      "metadata": {
        "colab": {
          "base_uri": "https://localhost:8080/"
        },
        "id": "PaQYlXfqSfRi",
        "outputId": "1d3b6a2e-0722-43d6-93b7-334531f65356"
      },
      "execution_count": null,
      "outputs": [
        {
          "output_type": "stream",
          "name": "stdout",
          "text": [
            "enter your length value in inch500\n",
            "cm for 500 inch is equal to 508.0\n"
          ]
        }
      ]
    },
    {
      "cell_type": "code",
      "source": [
        "d = int(input(\"enter the temperature in celcius\"))\n",
        "farenheit = print(\"farenheit for\",d,\"celcius is equal to\",((d*9/5)+32))"
      ],
      "metadata": {
        "colab": {
          "base_uri": "https://localhost:8080/"
        },
        "id": "EeapqGf1TmAU",
        "outputId": "7f0cb93c-4445-445f-ed40-4493b82c5d77"
      },
      "execution_count": null,
      "outputs": [
        {
          "output_type": "stream",
          "name": "stdout",
          "text": [
            "enter the temperature in celcius30\n",
            "farenheit for 30 celcius is equal to 86.0\n"
          ]
        }
      ]
    }
  ]
}